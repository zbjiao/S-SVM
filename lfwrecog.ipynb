{
 "cells": [
  {
   "cell_type": "code",
   "execution_count": 8,
   "metadata": {
    "collapsed": true
   },
   "outputs": [],
   "source": [
    "import numpy as np\n",
    "import cv2\n",
    "from PIL import Image, ImageDraw\n",
    "import os"
   ]
  },
  {
   "cell_type": "code",
   "execution_count": 9,
   "metadata": {
    "collapsed": true
   },
   "outputs": [],
   "source": [
    "sourcepath = \"C://Users//DELL//Desktop//thesis//lfw_funneled\""
   ]
  },
  {
   "cell_type": "code",
   "execution_count": 11,
   "metadata": {
    "collapsed": true
   },
   "outputs": [],
   "source": [
    "for filename in os.listdir(sourcepath):\n",
    "    number = len(os.listdir(sourcepath+\"//\"+filename))-1\n",
    "    if number>69:\n",
    "        i = 0\n",
    "        while i<number:\n",
    "            i = i + 1\n",
    "            findface(i, filename)               "
   ]
  },
  {
   "cell_type": "code",
   "execution_count": 4,
   "metadata": {
    "collapsed": true
   },
   "outputs": [],
   "source": [
    "def squarize(img, requiresize=100):\n",
    "    ratio = requiresize/max(img.shape[0],img.shape[1])\n",
    "    img_resize = cv2.resize(img, (0, 0), fx=ratio, fy=ratio, interpolation=cv2.INTER_NEAREST)\n",
    "    borader_y = max(img_resize.shape[0],img_resize.shape[1])-img_resize.shape[1]\n",
    "    borader_x = max(img_resize.shape[0],img_resize.shape[1])-img_resize.shape[0]\n",
    "    img_processed = cv2.copyMakeBorder(img_resize, 0, borader_x, 0, borader_y, cv2.BORDER_CONSTANT, value=(0, 0, 0))\n",
    "    return img_processed"
   ]
  },
  {
   "cell_type": "code",
   "execution_count": 5,
   "metadata": {
    "collapsed": true
   },
   "outputs": [],
   "source": [
    "def findface(i, filename, color = (0, 255, 0)):\n",
    "    s = str(i).zfill(4)\n",
    "    img_processed = cv2.imread(sourcepath+\"//\"+filename+\"//\"+filename+\"_\"+s+\".jpg\")\n",
    "    #img = cv2.imread(\"C://Users//DELL//Desktop//thesis//lfw_funneled//\"+\"George_W_Bush//George_W_Bush_\"+\"0002.jpg\")\n",
    "    #if the shape is not square, enlarge it as square with white background.\n",
    "    # printout the picture\n",
    "    # cv2.namedWindow(\"Image\")  \n",
    "    # cv2.imshow(\"Image\", img_processed) \n",
    "    # cv2.waitKey (0)  \n",
    "    # cv2.destroyAllWindows()\n",
    "    classfier = cv2.CascadeClassifier(r\"C:\\Users\\DELL\\Anaconda3\\pkgs\\opencv-3.3.1-py36h20b85fd_1\\Library\\etc\\haarcascades\\haarcascade_frontalface_alt.xml\")\n",
    "    grey = cv2.cvtColor(img_processed, cv2.COLOR_BGR2GRAY)\n",
    "    faceRects = classfier.detectMultiScale(grey, scaleFactor = 1.2, minNeighbors = 3, minSize = (30, 30))\n",
    "    #the biggest head is what we want.\n",
    "    if len(faceRects) == 1:\n",
    "        x,y,w,h = faceRects[0]\n",
    "    elif len(faceRects)>1:\n",
    "        maxs = 0\n",
    "        for faceRect in faceRects:\n",
    "            x, y, w, h = faceRect\n",
    "            #find the most central face in the photo, which is most likely to be the face we want.\n",
    "            if (w+h)>maxs:\n",
    "                x, y, w, h = faceRect\n",
    "    else: return()\n",
    "    cv2.rectangle(img_processed, (x, y), (x + w, y + h), color, 2)\n",
    "    face = img_processed[y : y + h, x : x + w]\n",
    "    face = squarize(face)\n",
    "    #reshape\n",
    "    targetpath = \"faceset//\"+filename\n",
    "    if os.path.exists(targetpath):\n",
    "        cv2.imwrite(targetpath+\"//\"+filename+\"_\"+s+\".jpg\", face, (cv2.IMWRITE_JPEG_QUALITY, 80))\n",
    "    else:\n",
    "        os.makedirs(targetpath)\n",
    "        cv2.imwrite(targetpath+\"//\"+filename+\"_\"+s+\".jpg\", face, (cv2.IMWRITE_JPEG_QUALITY, 80))\n",
    "    #cv2.rectangle(img_processed, (x - 10, y - 10), (x + w + 10, y + h + 10), color, 2)\n",
    "    #face = img_processed[y-10 : y + h + 10, x-10 : x + w + 10]                \n",
    "    #显示图像\n",
    "    #cv2.imshow(\"face\", img_processed) \n",
    "    #cv2.imshow(\"face\", face)  \n",
    "    #c = cv2.waitKey(10)\n",
    "    #cv2.waitKey (0)   \n",
    "    #释放摄像头并销毁所有窗口\n",
    "    #cv2.destroyAllWindows() \n",
    "            "
   ]
  }
 ],
 "metadata": {
  "kernelspec": {
   "display_name": "Python 3",
   "language": "python",
   "name": "python3"
  },
  "language_info": {
   "codemirror_mode": {
    "name": "ipython",
    "version": 3
   },
   "file_extension": ".py",
   "mimetype": "text/x-python",
   "name": "python",
   "nbconvert_exporter": "python",
   "pygments_lexer": "ipython3",
   "version": "3.6.3"
  }
 },
 "nbformat": 4,
 "nbformat_minor": 2
}
